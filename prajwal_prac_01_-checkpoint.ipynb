{
 "cells": [
  {
   "cell_type": "code",
   "execution_count": 73,
   "id": "77021610-a148-4b23-8bf5-1f9dd85e1e77",
   "metadata": {
    "tags": []
   },
   "outputs": [],
   "source": [
    "# Importing liabiries\n",
    "import pandas as pd\n",
    "import numpy as np\n",
    "import seaborn as sns\n",
    "import matplotlib.pyplot as plt\n",
    "%matplotlib inline"
   ]
  },
  {
   "cell_type": "code",
   "execution_count": 74,
   "id": "ffb1a3ca-ba4e-4ba4-a254-c966e576f355",
   "metadata": {
    "tags": []
   },
   "outputs": [
    {
     "data": {
      "text/html": [
       "<div>\n",
       "<style scoped>\n",
       "    .dataframe tbody tr th:only-of-type {\n",
       "        vertical-align: middle;\n",
       "    }\n",
       "\n",
       "    .dataframe tbody tr th {\n",
       "        vertical-align: top;\n",
       "    }\n",
       "\n",
       "    .dataframe thead th {\n",
       "        text-align: right;\n",
       "    }\n",
       "</style>\n",
       "<table border=\"1\" class=\"dataframe\">\n",
       "  <thead>\n",
       "    <tr style=\"text-align: right;\">\n",
       "      <th></th>\n",
       "      <th>Date</th>\n",
       "      <th>Open</th>\n",
       "      <th>High</th>\n",
       "      <th>Low</th>\n",
       "      <th>Close</th>\n",
       "      <th>Adj Close</th>\n",
       "      <th>Volume</th>\n",
       "    </tr>\n",
       "  </thead>\n",
       "  <tbody>\n",
       "    <tr>\n",
       "      <th>0</th>\n",
       "      <td>2009-10-30</td>\n",
       "      <td>45.049999</td>\n",
       "      <td>45.049999</td>\n",
       "      <td>35.349998</td>\n",
       "      <td>39.500000</td>\n",
       "      <td>39.500000</td>\n",
       "      <td>173896700.0</td>\n",
       "    </tr>\n",
       "    <tr>\n",
       "      <th>1</th>\n",
       "      <td>2009-11-03</td>\n",
       "      <td>38.000000</td>\n",
       "      <td>39.150002</td>\n",
       "      <td>31.650000</td>\n",
       "      <td>34.200001</td>\n",
       "      <td>34.200001</td>\n",
       "      <td>25111500.0</td>\n",
       "    </tr>\n",
       "    <tr>\n",
       "      <th>2</th>\n",
       "      <td>2009-11-04</td>\n",
       "      <td>34.700001</td>\n",
       "      <td>35.250000</td>\n",
       "      <td>33.500000</td>\n",
       "      <td>33.799999</td>\n",
       "      <td>33.799999</td>\n",
       "      <td>13446800.0</td>\n",
       "    </tr>\n",
       "    <tr>\n",
       "      <th>3</th>\n",
       "      <td>2009-11-05</td>\n",
       "      <td>33.900002</td>\n",
       "      <td>33.900002</td>\n",
       "      <td>32.049999</td>\n",
       "      <td>32.599998</td>\n",
       "      <td>32.599998</td>\n",
       "      <td>10906300.0</td>\n",
       "    </tr>\n",
       "    <tr>\n",
       "      <th>4</th>\n",
       "      <td>2009-11-06</td>\n",
       "      <td>33.000000</td>\n",
       "      <td>36.349998</td>\n",
       "      <td>32.750000</td>\n",
       "      <td>34.700001</td>\n",
       "      <td>34.700001</td>\n",
       "      <td>26854900.0</td>\n",
       "    </tr>\n",
       "    <tr>\n",
       "      <th>...</th>\n",
       "      <td>...</td>\n",
       "      <td>...</td>\n",
       "      <td>...</td>\n",
       "      <td>...</td>\n",
       "      <td>...</td>\n",
       "      <td>...</td>\n",
       "      <td>...</td>\n",
       "    </tr>\n",
       "    <tr>\n",
       "      <th>3598</th>\n",
       "      <td>2024-05-24</td>\n",
       "      <td>15.050000</td>\n",
       "      <td>15.100000</td>\n",
       "      <td>14.750000</td>\n",
       "      <td>15.100000</td>\n",
       "      <td>15.100000</td>\n",
       "      <td>26498649.0</td>\n",
       "    </tr>\n",
       "    <tr>\n",
       "      <th>3599</th>\n",
       "      <td>2024-05-27</td>\n",
       "      <td>15.850000</td>\n",
       "      <td>15.850000</td>\n",
       "      <td>15.850000</td>\n",
       "      <td>15.850000</td>\n",
       "      <td>15.850000</td>\n",
       "      <td>13872530.0</td>\n",
       "    </tr>\n",
       "    <tr>\n",
       "      <th>3600</th>\n",
       "      <td>2024-05-28</td>\n",
       "      <td>16.600000</td>\n",
       "      <td>16.600000</td>\n",
       "      <td>15.300000</td>\n",
       "      <td>16.600000</td>\n",
       "      <td>16.600000</td>\n",
       "      <td>102277431.0</td>\n",
       "    </tr>\n",
       "    <tr>\n",
       "      <th>3601</th>\n",
       "      <td>2024-05-29</td>\n",
       "      <td>16.549999</td>\n",
       "      <td>17.400000</td>\n",
       "      <td>16.000000</td>\n",
       "      <td>17.400000</td>\n",
       "      <td>17.400000</td>\n",
       "      <td>57018832.0</td>\n",
       "    </tr>\n",
       "    <tr>\n",
       "      <th>3602</th>\n",
       "      <td>2024-05-30</td>\n",
       "      <td>17.950001</td>\n",
       "      <td>18.250000</td>\n",
       "      <td>17.850000</td>\n",
       "      <td>18.250000</td>\n",
       "      <td>18.250000</td>\n",
       "      <td>22759460.0</td>\n",
       "    </tr>\n",
       "  </tbody>\n",
       "</table>\n",
       "<p>3603 rows × 7 columns</p>\n",
       "</div>"
      ],
      "text/plain": [
       "            Date       Open       High        Low      Close  Adj Close  \\\n",
       "0     2009-10-30  45.049999  45.049999  35.349998  39.500000  39.500000   \n",
       "1     2009-11-03  38.000000  39.150002  31.650000  34.200001  34.200001   \n",
       "2     2009-11-04  34.700001  35.250000  33.500000  33.799999  33.799999   \n",
       "3     2009-11-05  33.900002  33.900002  32.049999  32.599998  32.599998   \n",
       "4     2009-11-06  33.000000  36.349998  32.750000  34.700001  34.700001   \n",
       "...          ...        ...        ...        ...        ...        ...   \n",
       "3598  2024-05-24  15.050000  15.100000  14.750000  15.100000  15.100000   \n",
       "3599  2024-05-27  15.850000  15.850000  15.850000  15.850000  15.850000   \n",
       "3600  2024-05-28  16.600000  16.600000  15.300000  16.600000  16.600000   \n",
       "3601  2024-05-29  16.549999  17.400000  16.000000  17.400000  17.400000   \n",
       "3602  2024-05-30  17.950001  18.250000  17.850000  18.250000  18.250000   \n",
       "\n",
       "           Volume  \n",
       "0     173896700.0  \n",
       "1      25111500.0  \n",
       "2      13446800.0  \n",
       "3      10906300.0  \n",
       "4      26854900.0  \n",
       "...           ...  \n",
       "3598   26498649.0  \n",
       "3599   13872530.0  \n",
       "3600  102277431.0  \n",
       "3601   57018832.0  \n",
       "3602   22759460.0  \n",
       "\n",
       "[3603 rows x 7 columns]"
      ]
     },
     "execution_count": 74,
     "metadata": {},
     "output_type": "execute_result"
    }
   ],
   "source": [
    "# loading file path\n",
    "rattan_filepath = \"C:/Users/PAJAWAL B K/OneDrive/Desktop/RTNPOWER.NS (1).csv\"\n",
    "# loadin data\n",
    "rattan_data = pd.read_csv(rattan_filepath)\n",
    "rattan_data"
   ]
  },
  {
   "cell_type": "code",
   "execution_count": 75,
   "id": "97ccdc1d-d065-4651-82e1-c0c38defe429",
   "metadata": {
    "tags": []
   },
   "outputs": [
    {
     "data": {
      "text/html": [
       "<div>\n",
       "<style scoped>\n",
       "    .dataframe tbody tr th:only-of-type {\n",
       "        vertical-align: middle;\n",
       "    }\n",
       "\n",
       "    .dataframe tbody tr th {\n",
       "        vertical-align: top;\n",
       "    }\n",
       "\n",
       "    .dataframe thead th {\n",
       "        text-align: right;\n",
       "    }\n",
       "</style>\n",
       "<table border=\"1\" class=\"dataframe\">\n",
       "  <thead>\n",
       "    <tr style=\"text-align: right;\">\n",
       "      <th></th>\n",
       "      <th>Date</th>\n",
       "      <th>Open</th>\n",
       "      <th>High</th>\n",
       "      <th>Low</th>\n",
       "      <th>Close</th>\n",
       "      <th>Adj Close</th>\n",
       "      <th>Volume</th>\n",
       "    </tr>\n",
       "  </thead>\n",
       "  <tbody>\n",
       "    <tr>\n",
       "      <th>0</th>\n",
       "      <td>2009-10-30</td>\n",
       "      <td>45.049999</td>\n",
       "      <td>45.049999</td>\n",
       "      <td>35.349998</td>\n",
       "      <td>39.500000</td>\n",
       "      <td>39.500000</td>\n",
       "      <td>173896700.0</td>\n",
       "    </tr>\n",
       "    <tr>\n",
       "      <th>1</th>\n",
       "      <td>2009-11-03</td>\n",
       "      <td>38.000000</td>\n",
       "      <td>39.150002</td>\n",
       "      <td>31.650000</td>\n",
       "      <td>34.200001</td>\n",
       "      <td>34.200001</td>\n",
       "      <td>25111500.0</td>\n",
       "    </tr>\n",
       "    <tr>\n",
       "      <th>2</th>\n",
       "      <td>2009-11-04</td>\n",
       "      <td>34.700001</td>\n",
       "      <td>35.250000</td>\n",
       "      <td>33.500000</td>\n",
       "      <td>33.799999</td>\n",
       "      <td>33.799999</td>\n",
       "      <td>13446800.0</td>\n",
       "    </tr>\n",
       "    <tr>\n",
       "      <th>3</th>\n",
       "      <td>2009-11-05</td>\n",
       "      <td>33.900002</td>\n",
       "      <td>33.900002</td>\n",
       "      <td>32.049999</td>\n",
       "      <td>32.599998</td>\n",
       "      <td>32.599998</td>\n",
       "      <td>10906300.0</td>\n",
       "    </tr>\n",
       "    <tr>\n",
       "      <th>4</th>\n",
       "      <td>2009-11-06</td>\n",
       "      <td>33.000000</td>\n",
       "      <td>36.349998</td>\n",
       "      <td>32.750000</td>\n",
       "      <td>34.700001</td>\n",
       "      <td>34.700001</td>\n",
       "      <td>26854900.0</td>\n",
       "    </tr>\n",
       "    <tr>\n",
       "      <th>...</th>\n",
       "      <td>...</td>\n",
       "      <td>...</td>\n",
       "      <td>...</td>\n",
       "      <td>...</td>\n",
       "      <td>...</td>\n",
       "      <td>...</td>\n",
       "      <td>...</td>\n",
       "    </tr>\n",
       "    <tr>\n",
       "      <th>3598</th>\n",
       "      <td>2024-05-24</td>\n",
       "      <td>15.050000</td>\n",
       "      <td>15.100000</td>\n",
       "      <td>14.750000</td>\n",
       "      <td>15.100000</td>\n",
       "      <td>15.100000</td>\n",
       "      <td>26498649.0</td>\n",
       "    </tr>\n",
       "    <tr>\n",
       "      <th>3599</th>\n",
       "      <td>2024-05-27</td>\n",
       "      <td>15.850000</td>\n",
       "      <td>15.850000</td>\n",
       "      <td>15.850000</td>\n",
       "      <td>15.850000</td>\n",
       "      <td>15.850000</td>\n",
       "      <td>13872530.0</td>\n",
       "    </tr>\n",
       "    <tr>\n",
       "      <th>3600</th>\n",
       "      <td>2024-05-28</td>\n",
       "      <td>16.600000</td>\n",
       "      <td>16.600000</td>\n",
       "      <td>15.300000</td>\n",
       "      <td>16.600000</td>\n",
       "      <td>16.600000</td>\n",
       "      <td>102277431.0</td>\n",
       "    </tr>\n",
       "    <tr>\n",
       "      <th>3601</th>\n",
       "      <td>2024-05-29</td>\n",
       "      <td>16.549999</td>\n",
       "      <td>17.400000</td>\n",
       "      <td>16.000000</td>\n",
       "      <td>17.400000</td>\n",
       "      <td>17.400000</td>\n",
       "      <td>57018832.0</td>\n",
       "    </tr>\n",
       "    <tr>\n",
       "      <th>3602</th>\n",
       "      <td>2024-05-30</td>\n",
       "      <td>17.950001</td>\n",
       "      <td>18.250000</td>\n",
       "      <td>17.850000</td>\n",
       "      <td>18.250000</td>\n",
       "      <td>18.250000</td>\n",
       "      <td>22759460.0</td>\n",
       "    </tr>\n",
       "  </tbody>\n",
       "</table>\n",
       "<p>3603 rows × 7 columns</p>\n",
       "</div>"
      ],
      "text/plain": [
       "            Date       Open       High        Low      Close  Adj Close  \\\n",
       "0     2009-10-30  45.049999  45.049999  35.349998  39.500000  39.500000   \n",
       "1     2009-11-03  38.000000  39.150002  31.650000  34.200001  34.200001   \n",
       "2     2009-11-04  34.700001  35.250000  33.500000  33.799999  33.799999   \n",
       "3     2009-11-05  33.900002  33.900002  32.049999  32.599998  32.599998   \n",
       "4     2009-11-06  33.000000  36.349998  32.750000  34.700001  34.700001   \n",
       "...          ...        ...        ...        ...        ...        ...   \n",
       "3598  2024-05-24  15.050000  15.100000  14.750000  15.100000  15.100000   \n",
       "3599  2024-05-27  15.850000  15.850000  15.850000  15.850000  15.850000   \n",
       "3600  2024-05-28  16.600000  16.600000  15.300000  16.600000  16.600000   \n",
       "3601  2024-05-29  16.549999  17.400000  16.000000  17.400000  17.400000   \n",
       "3602  2024-05-30  17.950001  18.250000  17.850000  18.250000  18.250000   \n",
       "\n",
       "           Volume  \n",
       "0     173896700.0  \n",
       "1      25111500.0  \n",
       "2      13446800.0  \n",
       "3      10906300.0  \n",
       "4      26854900.0  \n",
       "...           ...  \n",
       "3598   26498649.0  \n",
       "3599   13872530.0  \n",
       "3600  102277431.0  \n",
       "3601   57018832.0  \n",
       "3602   22759460.0  \n",
       "\n",
       "[3603 rows x 7 columns]"
      ]
     },
     "execution_count": 75,
     "metadata": {},
     "output_type": "execute_result"
    }
   ],
   "source": [
    "# OR\n",
    "\n",
    "# we can load data in this type also\n",
    "rattan_data_02= pd.read_csv(\"C:/Users/PAJAWAL B K/OneDrive/Desktop/RTNPOWER.NS (1).csv\")\n",
    "rattan_data_02"
   ]
  },
  {
   "cell_type": "code",
   "execution_count": 76,
   "id": "0f89fd9b-6a5a-4352-a026-0463a3ebbc3d",
   "metadata": {
    "tags": []
   },
   "outputs": [
    {
     "data": {
      "text/html": [
       "<div>\n",
       "<style scoped>\n",
       "    .dataframe tbody tr th:only-of-type {\n",
       "        vertical-align: middle;\n",
       "    }\n",
       "\n",
       "    .dataframe tbody tr th {\n",
       "        vertical-align: top;\n",
       "    }\n",
       "\n",
       "    .dataframe thead th {\n",
       "        text-align: right;\n",
       "    }\n",
       "</style>\n",
       "<table border=\"1\" class=\"dataframe\">\n",
       "  <thead>\n",
       "    <tr style=\"text-align: right;\">\n",
       "      <th></th>\n",
       "      <th>Open</th>\n",
       "      <th>High</th>\n",
       "      <th>Low</th>\n",
       "      <th>Close</th>\n",
       "      <th>Adj Close</th>\n",
       "      <th>Volume</th>\n",
       "    </tr>\n",
       "  </thead>\n",
       "  <tbody>\n",
       "    <tr>\n",
       "      <th>count</th>\n",
       "      <td>3596.000000</td>\n",
       "      <td>3596.000000</td>\n",
       "      <td>3596.000000</td>\n",
       "      <td>3596.000000</td>\n",
       "      <td>3596.000000</td>\n",
       "      <td>3.596000e+03</td>\n",
       "    </tr>\n",
       "    <tr>\n",
       "      <th>mean</th>\n",
       "      <td>9.565086</td>\n",
       "      <td>9.771663</td>\n",
       "      <td>9.320884</td>\n",
       "      <td>9.506966</td>\n",
       "      <td>9.506966</td>\n",
       "      <td>8.810021e+06</td>\n",
       "    </tr>\n",
       "    <tr>\n",
       "      <th>std</th>\n",
       "      <td>7.745660</td>\n",
       "      <td>7.873370</td>\n",
       "      <td>7.591591</td>\n",
       "      <td>7.703566</td>\n",
       "      <td>7.703566</td>\n",
       "      <td>2.378565e+07</td>\n",
       "    </tr>\n",
       "    <tr>\n",
       "      <th>min</th>\n",
       "      <td>1.000000</td>\n",
       "      <td>1.050000</td>\n",
       "      <td>0.950000</td>\n",
       "      <td>1.000000</td>\n",
       "      <td>1.000000</td>\n",
       "      <td>0.000000e+00</td>\n",
       "    </tr>\n",
       "    <tr>\n",
       "      <th>25%</th>\n",
       "      <td>4.000000</td>\n",
       "      <td>4.100000</td>\n",
       "      <td>3.900000</td>\n",
       "      <td>4.000000</td>\n",
       "      <td>4.000000</td>\n",
       "      <td>9.491985e+05</td>\n",
       "    </tr>\n",
       "    <tr>\n",
       "      <th>50%</th>\n",
       "      <td>7.500000</td>\n",
       "      <td>7.750000</td>\n",
       "      <td>7.275000</td>\n",
       "      <td>7.500000</td>\n",
       "      <td>7.500000</td>\n",
       "      <td>2.105499e+06</td>\n",
       "    </tr>\n",
       "    <tr>\n",
       "      <th>75%</th>\n",
       "      <td>11.400000</td>\n",
       "      <td>11.650000</td>\n",
       "      <td>11.050000</td>\n",
       "      <td>11.350000</td>\n",
       "      <td>11.350000</td>\n",
       "      <td>6.004817e+06</td>\n",
       "    </tr>\n",
       "    <tr>\n",
       "      <th>max</th>\n",
       "      <td>45.049999</td>\n",
       "      <td>45.049999</td>\n",
       "      <td>37.250000</td>\n",
       "      <td>39.500000</td>\n",
       "      <td>39.500000</td>\n",
       "      <td>3.686299e+08</td>\n",
       "    </tr>\n",
       "  </tbody>\n",
       "</table>\n",
       "</div>"
      ],
      "text/plain": [
       "              Open         High          Low        Close    Adj Close  \\\n",
       "count  3596.000000  3596.000000  3596.000000  3596.000000  3596.000000   \n",
       "mean      9.565086     9.771663     9.320884     9.506966     9.506966   \n",
       "std       7.745660     7.873370     7.591591     7.703566     7.703566   \n",
       "min       1.000000     1.050000     0.950000     1.000000     1.000000   \n",
       "25%       4.000000     4.100000     3.900000     4.000000     4.000000   \n",
       "50%       7.500000     7.750000     7.275000     7.500000     7.500000   \n",
       "75%      11.400000    11.650000    11.050000    11.350000    11.350000   \n",
       "max      45.049999    45.049999    37.250000    39.500000    39.500000   \n",
       "\n",
       "             Volume  \n",
       "count  3.596000e+03  \n",
       "mean   8.810021e+06  \n",
       "std    2.378565e+07  \n",
       "min    0.000000e+00  \n",
       "25%    9.491985e+05  \n",
       "50%    2.105499e+06  \n",
       "75%    6.004817e+06  \n",
       "max    3.686299e+08  "
      ]
     },
     "execution_count": 76,
     "metadata": {},
     "output_type": "execute_result"
    }
   ],
   "source": [
    "rattan_data.describe()"
   ]
  },
  {
   "cell_type": "code",
   "execution_count": 77,
   "id": "194c9ee1-f76f-4828-91c9-552b5cd8910d",
   "metadata": {
    "tags": []
   },
   "outputs": [
    {
     "name": "stdout",
     "output_type": "stream",
     "text": [
      "<class 'pandas.core.frame.DataFrame'>\n",
      "RangeIndex: 3603 entries, 0 to 3602\n",
      "Data columns (total 7 columns):\n",
      " #   Column     Non-Null Count  Dtype  \n",
      "---  ------     --------------  -----  \n",
      " 0   Date       3603 non-null   object \n",
      " 1   Open       3596 non-null   float64\n",
      " 2   High       3596 non-null   float64\n",
      " 3   Low        3596 non-null   float64\n",
      " 4   Close      3596 non-null   float64\n",
      " 5   Adj Close  3596 non-null   float64\n",
      " 6   Volume     3596 non-null   float64\n",
      "dtypes: float64(6), object(1)\n",
      "memory usage: 197.2+ KB\n"
     ]
    }
   ],
   "source": [
    "rattan_data.info()"
   ]
  },
  {
   "cell_type": "code",
   "execution_count": 78,
   "id": "12552fec-32ca-4ddd-805a-2e33c9ecf56d",
   "metadata": {},
   "outputs": [
    {
     "data": {
      "text/plain": [
       "<Axes: >"
      ]
     },
     "execution_count": 78,
     "metadata": {},
     "output_type": "execute_result"
    },
    {
     "data": {
      "image/png": "[encoded data removed]",
      "text/plain": [
       "<Figure size 2000x1000 with 1 Axes>"
      ]
     },
     "metadata": {},
     "output_type": "display_data"
    }
   ],
   "source": [
    "# Line plot \n",
    "plt.figure(figsize=(20,10))\n",
    "sns.lineplot(data=rattan_data)"
   ]
  },
  {
   "cell_type": "code",
   "execution_count": 79,
   "id": "c0643e61-a251-44f0-bf04-9b616571f430",
   "metadata": {},
   "outputs": [
    {
     "data": {
      "text/html": [
       "<div>\n",
       "<style scoped>\n",
       "    .dataframe tbody tr th:only-of-type {\n",
       "        vertical-align: middle;\n",
       "    }\n",
       "\n",
       "    .dataframe tbody tr th {\n",
       "        vertical-align: top;\n",
       "    }\n",
       "\n",
       "    .dataframe thead th {\n",
       "        text-align: right;\n",
       "    }\n",
       "</style>\n",
       "<table border=\"1\" class=\"dataframe\">\n",
       "  <thead>\n",
       "    <tr style=\"text-align: right;\">\n",
       "      <th></th>\n",
       "      <th>Date</th>\n",
       "      <th>Open</th>\n",
       "      <th>High</th>\n",
       "      <th>Low</th>\n",
       "      <th>Close</th>\n",
       "      <th>Adj Close</th>\n",
       "      <th>Volume</th>\n",
       "    </tr>\n",
       "  </thead>\n",
       "  <tbody>\n",
       "    <tr>\n",
       "      <th>0</th>\n",
       "      <td>2009-10-30</td>\n",
       "      <td>45.049999</td>\n",
       "      <td>45.049999</td>\n",
       "      <td>35.349998</td>\n",
       "      <td>39.500000</td>\n",
       "      <td>39.500000</td>\n",
       "      <td>173896700.0</td>\n",
       "    </tr>\n",
       "    <tr>\n",
       "      <th>1</th>\n",
       "      <td>2009-11-03</td>\n",
       "      <td>38.000000</td>\n",
       "      <td>39.150002</td>\n",
       "      <td>31.650000</td>\n",
       "      <td>34.200001</td>\n",
       "      <td>34.200001</td>\n",
       "      <td>25111500.0</td>\n",
       "    </tr>\n",
       "    <tr>\n",
       "      <th>2</th>\n",
       "      <td>2009-11-04</td>\n",
       "      <td>34.700001</td>\n",
       "      <td>35.250000</td>\n",
       "      <td>33.500000</td>\n",
       "      <td>33.799999</td>\n",
       "      <td>33.799999</td>\n",
       "      <td>13446800.0</td>\n",
       "    </tr>\n",
       "    <tr>\n",
       "      <th>3</th>\n",
       "      <td>2009-11-05</td>\n",
       "      <td>33.900002</td>\n",
       "      <td>33.900002</td>\n",
       "      <td>32.049999</td>\n",
       "      <td>32.599998</td>\n",
       "      <td>32.599998</td>\n",
       "      <td>10906300.0</td>\n",
       "    </tr>\n",
       "    <tr>\n",
       "      <th>4</th>\n",
       "      <td>2009-11-06</td>\n",
       "      <td>33.000000</td>\n",
       "      <td>36.349998</td>\n",
       "      <td>32.750000</td>\n",
       "      <td>34.700001</td>\n",
       "      <td>34.700001</td>\n",
       "      <td>26854900.0</td>\n",
       "    </tr>\n",
       "  </tbody>\n",
       "</table>\n",
       "</div>"
      ],
      "text/plain": [
       "         Date       Open       High        Low      Close  Adj Close  \\\n",
       "0  2009-10-30  45.049999  45.049999  35.349998  39.500000  39.500000   \n",
       "1  2009-11-03  38.000000  39.150002  31.650000  34.200001  34.200001   \n",
       "2  2009-11-04  34.700001  35.250000  33.500000  33.799999  33.799999   \n",
       "3  2009-11-05  33.900002  33.900002  32.049999  32.599998  32.599998   \n",
       "4  2009-11-06  33.000000  36.349998  32.750000  34.700001  34.700001   \n",
       "\n",
       "        Volume  \n",
       "0  173896700.0  \n",
       "1   25111500.0  \n",
       "2   13446800.0  \n",
       "3   10906300.0  \n",
       "4   26854900.0  "
      ]
     },
     "execution_count": 79,
     "metadata": {},
     "output_type": "execute_result"
    }
   ],
   "source": [
    "rattan_data.head()"
   ]
  },
  {
   "cell_type": "code",
   "execution_count": 80,
   "id": "38ce7d00-9cc2-40eb-8c84-50100595f9c7",
   "metadata": {},
   "outputs": [
    {
     "data": {
      "text/html": [
       "<div>\n",
       "<style scoped>\n",
       "    .dataframe tbody tr th:only-of-type {\n",
       "        vertical-align: middle;\n",
       "    }\n",
       "\n",
       "    .dataframe tbody tr th {\n",
       "        vertical-align: top;\n",
       "    }\n",
       "\n",
       "    .dataframe thead th {\n",
       "        text-align: right;\n",
       "    }\n",
       "</style>\n",
       "<table border=\"1\" class=\"dataframe\">\n",
       "  <thead>\n",
       "    <tr style=\"text-align: right;\">\n",
       "      <th></th>\n",
       "      <th>Date</th>\n",
       "      <th>Open</th>\n",
       "      <th>High</th>\n",
       "      <th>Low</th>\n",
       "      <th>Close</th>\n",
       "      <th>Adj Close</th>\n",
       "      <th>Volume</th>\n",
       "    </tr>\n",
       "  </thead>\n",
       "  <tbody>\n",
       "    <tr>\n",
       "      <th>3598</th>\n",
       "      <td>2024-05-24</td>\n",
       "      <td>15.050000</td>\n",
       "      <td>15.10</td>\n",
       "      <td>14.75</td>\n",
       "      <td>15.10</td>\n",
       "      <td>15.10</td>\n",
       "      <td>26498649.0</td>\n",
       "    </tr>\n",
       "    <tr>\n",
       "      <th>3599</th>\n",
       "      <td>2024-05-27</td>\n",
       "      <td>15.850000</td>\n",
       "      <td>15.85</td>\n",
       "      <td>15.85</td>\n",
       "      <td>15.85</td>\n",
       "      <td>15.85</td>\n",
       "      <td>13872530.0</td>\n",
       "    </tr>\n",
       "    <tr>\n",
       "      <th>3600</th>\n",
       "      <td>2024-05-28</td>\n",
       "      <td>16.600000</td>\n",
       "      <td>16.60</td>\n",
       "      <td>15.30</td>\n",
       "      <td>16.60</td>\n",
       "      <td>16.60</td>\n",
       "      <td>102277431.0</td>\n",
       "    </tr>\n",
       "    <tr>\n",
       "      <th>3601</th>\n",
       "      <td>2024-05-29</td>\n",
       "      <td>16.549999</td>\n",
       "      <td>17.40</td>\n",
       "      <td>16.00</td>\n",
       "      <td>17.40</td>\n",
       "      <td>17.40</td>\n",
       "      <td>57018832.0</td>\n",
       "    </tr>\n",
       "    <tr>\n",
       "      <th>3602</th>\n",
       "      <td>2024-05-30</td>\n",
       "      <td>17.950001</td>\n",
       "      <td>18.25</td>\n",
       "      <td>17.85</td>\n",
       "      <td>18.25</td>\n",
       "      <td>18.25</td>\n",
       "      <td>22759460.0</td>\n",
       "    </tr>\n",
       "  </tbody>\n",
       "</table>\n",
       "</div>"
      ],
      "text/plain": [
       "            Date       Open   High    Low  Close  Adj Close       Volume\n",
       "3598  2024-05-24  15.050000  15.10  14.75  15.10      15.10   26498649.0\n",
       "3599  2024-05-27  15.850000  15.85  15.85  15.85      15.85   13872530.0\n",
       "3600  2024-05-28  16.600000  16.60  15.30  16.60      16.60  102277431.0\n",
       "3601  2024-05-29  16.549999  17.40  16.00  17.40      17.40   57018832.0\n",
       "3602  2024-05-30  17.950001  18.25  17.85  18.25      18.25   22759460.0"
      ]
     },
     "execution_count": 80,
     "metadata": {},
     "output_type": "execute_result"
    }
   ],
   "source": [
    "rattan_data.tail()"
   ]
  },
  {
   "cell_type": "code",
   "execution_count": 81,
   "id": "7c878ed9-7870-4ae0-b69d-48eb61776549",
   "metadata": {
    "tags": []
   },
   "outputs": [
    {
     "data": {
      "text/plain": [
       "Index(['Date', 'Open', 'High', 'Low', 'Close', 'Adj Close', 'Volume'], dtype='object')"
      ]
     },
     "execution_count": 81,
     "metadata": {},
     "output_type": "execute_result"
    }
   ],
   "source": [
    "rattan_data.columns"
   ]
  },
  {
   "cell_type": "code",
   "execution_count": 82,
   "id": "5eb562ec-9809-47f4-8211-6d350ade8327",
   "metadata": {
    "tags": []
   },
   "outputs": [
    {
     "data": {
      "text/html": [
       "<div>\n",
       "<style scoped>\n",
       "    .dataframe tbody tr th:only-of-type {\n",
       "        vertical-align: middle;\n",
       "    }\n",
       "\n",
       "    .dataframe tbody tr th {\n",
       "        vertical-align: top;\n",
       "    }\n",
       "\n",
       "    .dataframe thead th {\n",
       "        text-align: right;\n",
       "    }\n",
       "</style>\n",
       "<table border=\"1\" class=\"dataframe\">\n",
       "  <thead>\n",
       "    <tr style=\"text-align: right;\">\n",
       "      <th></th>\n",
       "      <th>Date</th>\n",
       "      <th>Open</th>\n",
       "      <th>High</th>\n",
       "      <th>Low</th>\n",
       "      <th>Close</th>\n",
       "      <th>Adj Close</th>\n",
       "      <th>Volume</th>\n",
       "    </tr>\n",
       "  </thead>\n",
       "  <tbody>\n",
       "    <tr>\n",
       "      <th>0</th>\n",
       "      <td>2009-10-30</td>\n",
       "      <td>45.049999</td>\n",
       "      <td>45.049999</td>\n",
       "      <td>35.349998</td>\n",
       "      <td>39.500000</td>\n",
       "      <td>39.500000</td>\n",
       "      <td>173896700.0</td>\n",
       "    </tr>\n",
       "    <tr>\n",
       "      <th>1</th>\n",
       "      <td>2009-11-03</td>\n",
       "      <td>38.000000</td>\n",
       "      <td>39.150002</td>\n",
       "      <td>31.650000</td>\n",
       "      <td>34.200001</td>\n",
       "      <td>34.200001</td>\n",
       "      <td>25111500.0</td>\n",
       "    </tr>\n",
       "    <tr>\n",
       "      <th>2</th>\n",
       "      <td>2009-11-04</td>\n",
       "      <td>34.700001</td>\n",
       "      <td>35.250000</td>\n",
       "      <td>33.500000</td>\n",
       "      <td>33.799999</td>\n",
       "      <td>33.799999</td>\n",
       "      <td>13446800.0</td>\n",
       "    </tr>\n",
       "    <tr>\n",
       "      <th>3</th>\n",
       "      <td>2009-11-05</td>\n",
       "      <td>33.900002</td>\n",
       "      <td>33.900002</td>\n",
       "      <td>32.049999</td>\n",
       "      <td>32.599998</td>\n",
       "      <td>32.599998</td>\n",
       "      <td>10906300.0</td>\n",
       "    </tr>\n",
       "    <tr>\n",
       "      <th>4</th>\n",
       "      <td>2009-11-06</td>\n",
       "      <td>33.000000</td>\n",
       "      <td>36.349998</td>\n",
       "      <td>32.750000</td>\n",
       "      <td>34.700001</td>\n",
       "      <td>34.700001</td>\n",
       "      <td>26854900.0</td>\n",
       "    </tr>\n",
       "    <tr>\n",
       "      <th>...</th>\n",
       "      <td>...</td>\n",
       "      <td>...</td>\n",
       "      <td>...</td>\n",
       "      <td>...</td>\n",
       "      <td>...</td>\n",
       "      <td>...</td>\n",
       "      <td>...</td>\n",
       "    </tr>\n",
       "    <tr>\n",
       "      <th>3598</th>\n",
       "      <td>2024-05-24</td>\n",
       "      <td>15.050000</td>\n",
       "      <td>15.100000</td>\n",
       "      <td>14.750000</td>\n",
       "      <td>15.100000</td>\n",
       "      <td>15.100000</td>\n",
       "      <td>26498649.0</td>\n",
       "    </tr>\n",
       "    <tr>\n",
       "      <th>3599</th>\n",
       "      <td>2024-05-27</td>\n",
       "      <td>15.850000</td>\n",
       "      <td>15.850000</td>\n",
       "      <td>15.850000</td>\n",
       "      <td>15.850000</td>\n",
       "      <td>15.850000</td>\n",
       "      <td>13872530.0</td>\n",
       "    </tr>\n",
       "    <tr>\n",
       "      <th>3600</th>\n",
       "      <td>2024-05-28</td>\n",
       "      <td>16.600000</td>\n",
       "      <td>16.600000</td>\n",
       "      <td>15.300000</td>\n",
       "      <td>16.600000</td>\n",
       "      <td>16.600000</td>\n",
       "      <td>102277431.0</td>\n",
       "    </tr>\n",
       "    <tr>\n",
       "      <th>3601</th>\n",
       "      <td>2024-05-29</td>\n",
       "      <td>16.549999</td>\n",
       "      <td>17.400000</td>\n",
       "      <td>16.000000</td>\n",
       "      <td>17.400000</td>\n",
       "      <td>17.400000</td>\n",
       "      <td>57018832.0</td>\n",
       "    </tr>\n",
       "    <tr>\n",
       "      <th>3602</th>\n",
       "      <td>2024-05-30</td>\n",
       "      <td>17.950001</td>\n",
       "      <td>18.250000</td>\n",
       "      <td>17.850000</td>\n",
       "      <td>18.250000</td>\n",
       "      <td>18.250000</td>\n",
       "      <td>22759460.0</td>\n",
       "    </tr>\n",
       "  </tbody>\n",
       "</table>\n",
       "<p>3596 rows × 7 columns</p>\n",
       "</div>"
      ],
      "text/plain": [
       "            Date       Open       High        Low      Close  Adj Close  \\\n",
       "0     2009-10-30  45.049999  45.049999  35.349998  39.500000  39.500000   \n",
       "1     2009-11-03  38.000000  39.150002  31.650000  34.200001  34.200001   \n",
       "2     2009-11-04  34.700001  35.250000  33.500000  33.799999  33.799999   \n",
       "3     2009-11-05  33.900002  33.900002  32.049999  32.599998  32.599998   \n",
       "4     2009-11-06  33.000000  36.349998  32.750000  34.700001  34.700001   \n",
       "...          ...        ...        ...        ...        ...        ...   \n",
       "3598  2024-05-24  15.050000  15.100000  14.750000  15.100000  15.100000   \n",
       "3599  2024-05-27  15.850000  15.850000  15.850000  15.850000  15.850000   \n",
       "3600  2024-05-28  16.600000  16.600000  15.300000  16.600000  16.600000   \n",
       "3601  2024-05-29  16.549999  17.400000  16.000000  17.400000  17.400000   \n",
       "3602  2024-05-30  17.950001  18.250000  17.850000  18.250000  18.250000   \n",
       "\n",
       "           Volume  \n",
       "0     173896700.0  \n",
       "1      25111500.0  \n",
       "2      13446800.0  \n",
       "3      10906300.0  \n",
       "4      26854900.0  \n",
       "...           ...  \n",
       "3598   26498649.0  \n",
       "3599   13872530.0  \n",
       "3600  102277431.0  \n",
       "3601   57018832.0  \n",
       "3602   22759460.0  \n",
       "\n",
       "[3596 rows x 7 columns]"
      ]
     },
     "execution_count": 82,
     "metadata": {},
     "output_type": "execute_result"
    }
   ],
   "source": [
    "drop_na = rattan_data.dropna()\n",
    "drop_na"
   ]
  },
  {
   "cell_type": "code",
   "execution_count": 83,
   "id": "0298a303-7eb5-4570-abd6-03ab33141e96",
   "metadata": {
    "tags": []
   },
   "outputs": [
    {
     "name": "stdout",
     "output_type": "stream",
     "text": [
      "<class 'pandas.core.frame.DataFrame'>\n",
      "Index: 3596 entries, 0 to 3602\n",
      "Data columns (total 7 columns):\n",
      " #   Column     Non-Null Count  Dtype  \n",
      "---  ------     --------------  -----  \n",
      " 0   Date       3596 non-null   object \n",
      " 1   Open       3596 non-null   float64\n",
      " 2   High       3596 non-null   float64\n",
      " 3   Low        3596 non-null   float64\n",
      " 4   Close      3596 non-null   float64\n",
      " 5   Adj Close  3596 non-null   float64\n",
      " 6   Volume     3596 non-null   float64\n",
      "dtypes: float64(6), object(1)\n",
      "memory usage: 224.8+ KB\n"
     ]
    }
   ],
   "source": [
    "drop_na.info()"
   ]
  },
  {
   "cell_type": "code",
   "execution_count": 84,
   "id": "b13f7c14-3b2e-4d44-9a8c-93f0373ac474",
   "metadata": {
    "tags": []
   },
   "outputs": [
    {
     "data": {
      "text/plain": [
       "0       39.500000\n",
       "1       34.200001\n",
       "2       33.799999\n",
       "3       32.599998\n",
       "4       34.700001\n",
       "          ...    \n",
       "3598    15.100000\n",
       "3599    15.850000\n",
       "3600    16.600000\n",
       "3601    17.400000\n",
       "3602    18.250000\n",
       "Name: Close, Length: 3596, dtype: float64"
      ]
     },
     "execution_count": 84,
     "metadata": {},
     "output_type": "execute_result"
    }
   ],
   "source": [
    "x=drop_na.Close\n",
    "x"
   ]
  },
  {
   "cell_type": "code",
   "execution_count": 85,
   "id": "542faddd-fbbd-44fe-b8da-dc7786d99f19",
   "metadata": {
    "tags": []
   },
   "outputs": [],
   "source": [
    "y=drop_na.Close"
   ]
  },
  {
   "cell_type": "code",
   "execution_count": 86,
   "id": "ee583b75-6b76-4e50-9498-be3b0e349ecf",
   "metadata": {
    "tags": []
   },
   "outputs": [],
   "source": [
    "multi = ['Open', 'High', 'Low', 'Volume']\n",
    "x=drop_na[multi]"
   ]
  },
  {
   "cell_type": "code",
   "execution_count": 93,
   "id": "52e99fe7-0c95-451d-8f73-8385278fc292",
   "metadata": {
    "tags": []
   },
   "outputs": [],
   "source": [
    "import sklearn\n",
    "from sklearn.model_selection import train_test_split\n",
    "from sklearn import linear_model"
   ]
  },
  {
   "cell_type": "code",
   "execution_count": 88,
   "id": "d7e32701-155c-43b2-b0cd-a600a95adde5",
   "metadata": {
    "tags": []
   },
   "outputs": [
    {
     "data": {
      "text/html": [
       "<style>#sk-container-id-3 {color: black;}#sk-container-id-3 pre{padding: 0;}#sk-container-id-3 div.sk-toggleable {background-color: white;}#sk-container-id-3 label.sk-toggleable__label {cursor: pointer;display: block;width: 100%;margin-bottom: 0;padding: 0.3em;box-sizing: border-box;text-align: center;}#sk-container-id-3 label.sk-toggleable__label-arrow:before {content: \"▸\";float: left;margin-right: 0.25em;color: #696969;}#sk-container-id-3 label.sk-toggleable__label-arrow:hover:before {color: black;}#sk-container-id-3 div.sk-estimator:hover label.sk-toggleable__label-arrow:before {color: black;}#sk-container-id-3 div.sk-toggleable__content {max-height: 0;max-width: 0;overflow: hidden;text-align: left;background-color: #f0f8ff;}#sk-container-id-3 div.sk-toggleable__content pre {margin: 0.2em;color: black;border-radius: 0.25em;background-color: #f0f8ff;}#sk-container-id-3 input.sk-toggleable__control:checked~div.sk-toggleable__content {max-height: 200px;max-width: 100%;overflow: auto;}#sk-container-id-3 input.sk-toggleable__control:checked~label.sk-toggleable__label-arrow:before {content: \"▾\";}#sk-container-id-3 div.sk-estimator input.sk-toggleable__control:checked~label.sk-toggleable__label {background-color: #d4ebff;}#sk-container-id-3 div.sk-label input.sk-toggleable__control:checked~label.sk-toggleable__label {background-color: #d4ebff;}#sk-container-id-3 input.sk-hidden--visually {border: 0;clip: rect(1px 1px 1px 1px);clip: rect(1px, 1px, 1px, 1px);height: 1px;margin: -1px;overflow: hidden;padding: 0;position: absolute;width: 1px;}#sk-container-id-3 div.sk-estimator {font-family: monospace;background-color: #f0f8ff;border: 1px dotted black;border-radius: 0.25em;box-sizing: border-box;margin-bottom: 0.5em;}#sk-container-id-3 div.sk-estimator:hover {background-color: #d4ebff;}#sk-container-id-3 div.sk-parallel-item::after {content: \"\";width: 100%;border-bottom: 1px solid gray;flex-grow: 1;}#sk-container-id-3 div.sk-label:hover label.sk-toggleable__label {background-color: #d4ebff;}#sk-container-id-3 div.sk-serial::before {content: \"\";position: absolute;border-left: 1px solid gray;box-sizing: border-box;top: 0;bottom: 0;left: 50%;z-index: 0;}#sk-container-id-3 div.sk-serial {display: flex;flex-direction: column;align-items: center;background-color: white;padding-right: 0.2em;padding-left: 0.2em;position: relative;}#sk-container-id-3 div.sk-item {position: relative;z-index: 1;}#sk-container-id-3 div.sk-parallel {display: flex;align-items: stretch;justify-content: center;background-color: white;position: relative;}#sk-container-id-3 div.sk-item::before, #sk-container-id-3 div.sk-parallel-item::before {content: \"\";position: absolute;border-left: 1px solid gray;box-sizing: border-box;top: 0;bottom: 0;left: 50%;z-index: -1;}#sk-container-id-3 div.sk-parallel-item {display: flex;flex-direction: column;z-index: 1;position: relative;background-color: white;}#sk-container-id-3 div.sk-parallel-item:first-child::after {align-self: flex-end;width: 50%;}#sk-container-id-3 div.sk-parallel-item:last-child::after {align-self: flex-start;width: 50%;}#sk-container-id-3 div.sk-parallel-item:only-child::after {width: 0;}#sk-container-id-3 div.sk-dashed-wrapped {border: 1px dashed gray;margin: 0 0.4em 0.5em 0.4em;box-sizing: border-box;padding-bottom: 0.4em;background-color: white;}#sk-container-id-3 div.sk-label label {font-family: monospace;font-weight: bold;display: inline-block;line-height: 1.2em;}#sk-container-id-3 div.sk-label-container {text-align: center;}#sk-container-id-3 div.sk-container {/* jupyter's `normalize.less` sets `[hidden] { display: none; }` but bootstrap.min.css set `[hidden] { display: none !important; }` so we also need the `!important` here to be able to override the default hidden behavior on the sphinx rendered scikit-learn.org. See: https://github.com/scikit-learn/scikit-learn/issues/21755 */display: inline-block !important;position: relative;}#sk-container-id-3 div.sk-text-repr-fallback {display: none;}</style><div id=\"sk-container-id-3\" class=\"sk-top-container\"><div class=\"sk-text-repr-fallback\"><pre>LinearRegression()</pre><b>In a Jupyter environment, please rerun this cell to show the HTML representation or trust the notebook. <br />On GitHub, the HTML representation is unable to render, please try loading this page with nbviewer.org.</b></div><div class=\"sk-container\" hidden><div class=\"sk-item\"><div class=\"sk-estimator sk-toggleable\"><input class=\"sk-toggleable__control sk-hidden--visually\" id=\"sk-estimator-id-3\" type=\"checkbox\" checked><label for=\"sk-estimator-id-3\" class=\"sk-toggleable__label sk-toggleable__label-arrow\">LinearRegression</label><div class=\"sk-toggleable__content\"><pre>LinearRegression()</pre></div></div></div></div></div>"
      ],
      "text/plain": [
       "LinearRegression()"
      ]
     },
     "execution_count": 88,
     "metadata": {},
     "output_type": "execute_result"
    }
   ],
   "source": [
    "multi_reg = linear_model.LinearRegression()\n",
    "multi_reg.fit(x,y)"
   ]
  },
  {
   "cell_type": "code",
   "execution_count": 89,
   "id": "e513b1cc-eae6-44d5-af17-89c16aeba92e",
   "metadata": {
    "tags": []
   },
   "outputs": [
    {
     "name": "stdout",
     "output_type": "stream",
     "text": [
      "Making prediction for the following 5 days:\n",
      "        Open       High        Low       Volume\n",
      "0  45.049999  45.049999  35.349998  173896700.0\n",
      "1  38.000000  39.150002  31.650000   25111500.0\n",
      "2  34.700001  35.250000  33.500000   13446800.0\n",
      "3  33.900002  33.900002  32.049999   10906300.0\n",
      "4  33.000000  36.349998  32.750000   26854900.0\n",
      "The linear regression\n",
      "[38.4715941  34.45078536 34.15288743 32.51191837 35.18319264]\n"
     ]
    }
   ],
   "source": [
    "print(\"Making prediction for the following 5 days:\")\n",
    "print(x.head())\n",
    "print(\"The linear regression\")\n",
    "print(multi_reg.predict(x.head()))"
   ]
  },
  {
   "cell_type": "code",
   "execution_count": 90,
   "id": "ceccaa86-8005-4602-8049-882fe9be635a",
   "metadata": {
    "tags": []
   },
   "outputs": [],
   "source": [
    "from sklearn.tree import DecisionTreeRegressor"
   ]
  },
  {
   "cell_type": "code",
   "execution_count": 91,
   "id": "1bc495fa-cd76-4140-b39e-158df19b1709",
   "metadata": {
    "tags": []
   },
   "outputs": [
    {
     "data": {
      "text/html": [
       "<style>#sk-container-id-4 {color: black;}#sk-container-id-4 pre{padding: 0;}#sk-container-id-4 div.sk-toggleable {background-color: white;}#sk-container-id-4 label.sk-toggleable__label {cursor: pointer;display: block;width: 100%;margin-bottom: 0;padding: 0.3em;box-sizing: border-box;text-align: center;}#sk-container-id-4 label.sk-toggleable__label-arrow:before {content: \"▸\";float: left;margin-right: 0.25em;color: #696969;}#sk-container-id-4 label.sk-toggleable__label-arrow:hover:before {color: black;}#sk-container-id-4 div.sk-estimator:hover label.sk-toggleable__label-arrow:before {color: black;}#sk-container-id-4 div.sk-toggleable__content {max-height: 0;max-width: 0;overflow: hidden;text-align: left;background-color: #f0f8ff;}#sk-container-id-4 div.sk-toggleable__content pre {margin: 0.2em;color: black;border-radius: 0.25em;background-color: #f0f8ff;}#sk-container-id-4 input.sk-toggleable__control:checked~div.sk-toggleable__content {max-height: 200px;max-width: 100%;overflow: auto;}#sk-container-id-4 input.sk-toggleable__control:checked~label.sk-toggleable__label-arrow:before {content: \"▾\";}#sk-container-id-4 div.sk-estimator input.sk-toggleable__control:checked~label.sk-toggleable__label {background-color: #d4ebff;}#sk-container-id-4 div.sk-label input.sk-toggleable__control:checked~label.sk-toggleable__label {background-color: #d4ebff;}#sk-container-id-4 input.sk-hidden--visually {border: 0;clip: rect(1px 1px 1px 1px);clip: rect(1px, 1px, 1px, 1px);height: 1px;margin: -1px;overflow: hidden;padding: 0;position: absolute;width: 1px;}#sk-container-id-4 div.sk-estimator {font-family: monospace;background-color: #f0f8ff;border: 1px dotted black;border-radius: 0.25em;box-sizing: border-box;margin-bottom: 0.5em;}#sk-container-id-4 div.sk-estimator:hover {background-color: #d4ebff;}#sk-container-id-4 div.sk-parallel-item::after {content: \"\";width: 100%;border-bottom: 1px solid gray;flex-grow: 1;}#sk-container-id-4 div.sk-label:hover label.sk-toggleable__label {background-color: #d4ebff;}#sk-container-id-4 div.sk-serial::before {content: \"\";position: absolute;border-left: 1px solid gray;box-sizing: border-box;top: 0;bottom: 0;left: 50%;z-index: 0;}#sk-container-id-4 div.sk-serial {display: flex;flex-direction: column;align-items: center;background-color: white;padding-right: 0.2em;padding-left: 0.2em;position: relative;}#sk-container-id-4 div.sk-item {position: relative;z-index: 1;}#sk-container-id-4 div.sk-parallel {display: flex;align-items: stretch;justify-content: center;background-color: white;position: relative;}#sk-container-id-4 div.sk-item::before, #sk-container-id-4 div.sk-parallel-item::before {content: \"\";position: absolute;border-left: 1px solid gray;box-sizing: border-box;top: 0;bottom: 0;left: 50%;z-index: -1;}#sk-container-id-4 div.sk-parallel-item {display: flex;flex-direction: column;z-index: 1;position: relative;background-color: white;}#sk-container-id-4 div.sk-parallel-item:first-child::after {align-self: flex-end;width: 50%;}#sk-container-id-4 div.sk-parallel-item:last-child::after {align-self: flex-start;width: 50%;}#sk-container-id-4 div.sk-parallel-item:only-child::after {width: 0;}#sk-container-id-4 div.sk-dashed-wrapped {border: 1px dashed gray;margin: 0 0.4em 0.5em 0.4em;box-sizing: border-box;padding-bottom: 0.4em;background-color: white;}#sk-container-id-4 div.sk-label label {font-family: monospace;font-weight: bold;display: inline-block;line-height: 1.2em;}#sk-container-id-4 div.sk-label-container {text-align: center;}#sk-container-id-4 div.sk-container {/* jupyter's `normalize.less` sets `[hidden] { display: none; }` but bootstrap.min.css set `[hidden] { display: none !important; }` so we also need the `!important` here to be able to override the default hidden behavior on the sphinx rendered scikit-learn.org. See: https://github.com/scikit-learn/scikit-learn/issues/21755 */display: inline-block !important;position: relative;}#sk-container-id-4 div.sk-text-repr-fallback {display: none;}</style><div id=\"sk-container-id-4\" class=\"sk-top-container\"><div class=\"sk-text-repr-fallback\"><pre>DecisionTreeRegressor(random_state=1)</pre><b>In a Jupyter environment, please rerun this cell to show the HTML representation or trust the notebook. <br />On GitHub, the HTML representation is unable to render, please try loading this page with nbviewer.org.</b></div><div class=\"sk-container\" hidden><div class=\"sk-item\"><div class=\"sk-estimator sk-toggleable\"><input class=\"sk-toggleable__control sk-hidden--visually\" id=\"sk-estimator-id-4\" type=\"checkbox\" checked><label for=\"sk-estimator-id-4\" class=\"sk-toggleable__label sk-toggleable__label-arrow\">DecisionTreeRegressor</label><div class=\"sk-toggleable__content\"><pre>DecisionTreeRegressor(random_state=1)</pre></div></div></div></div></div>"
      ],
      "text/plain": [
       "DecisionTreeRegressor(random_state=1)"
      ]
     },
     "execution_count": 91,
     "metadata": {},
     "output_type": "execute_result"
    }
   ],
   "source": [
    "rattan_moddel = DecisionTreeRegressor(random_state=1)\n",
    "rattan_moddel.fit(x,y)"
   ]
  },
  {
   "cell_type": "code",
   "execution_count": 92,
   "id": "15824949-b44b-41a3-8ed3-d310ad1ea701",
   "metadata": {
    "tags": []
   },
   "outputs": [
    {
     "name": "stdout",
     "output_type": "stream",
     "text": [
      "making predition for the following 5 days\n",
      "        Open       High        Low       Volume\n",
      "0  45.049999  45.049999  35.349998  173896700.0\n",
      "1  38.000000  39.150002  31.650000   25111500.0\n",
      "2  34.700001  35.250000  33.500000   13446800.0\n",
      "3  33.900002  33.900002  32.049999   10906300.0\n",
      "4  33.000000  36.349998  32.750000   26854900.0\n",
      "The predictions are\n",
      "[39.5      34.200001 33.799999 32.599998 34.700001]\n"
     ]
    }
   ],
   "source": [
    "print(\"making predition for the following 5 days\")\n",
    "print(x.head())\n",
    "print(\"The predictions are\")\n",
    "print(rattan_moddel.predict(x.head()))"
   ]
  },
  {
   "cell_type": "code",
   "execution_count": 98,
   "id": "f0911c6e-2482-46c4-b680-a91cbcc3e291",
   "metadata": {
    "tags": []
   },
   "outputs": [
    {
     "data": {
      "text/plain": [
       "1.735109398885812e-17"
      ]
     },
     "execution_count": 98,
     "metadata": {},
     "output_type": "execute_result"
    }
   ],
   "source": [
    "from sklearn.metrics import mean_absolute_error\n",
    "\n",
    "predicted_stock = rattan_moddel.predict(x)\n",
    "mean_absolute_error(y,predicted_stock)"
   ]
  },
  {
   "cell_type": "code",
   "execution_count": 100,
   "id": "d5b8fd72-891e-43df-a129-8e99942cf32d",
   "metadata": {
    "tags": []
   },
   "outputs": [
    {
     "name": "stdout",
     "output_type": "stream",
     "text": [
      "0.14673383113273109\n"
     ]
    }
   ],
   "source": [
    "from sklearn.model_selection import train_test_split\n",
    "train_x, val_x, train_y, val_y = train_test_split(x,y, train_size= 0.6, random_state=0)\n",
    "rattan_data = DecisionTreeRegressor()\n",
    "rattan_data.fit(train_x, train_y)\n",
    "val_predictions = rattan_data.predict(val_x)\n",
    "print(mean_absolute_error(val_y, val_predictions))"
   ]
  },
  {
   "cell_type": "code",
   "execution_count": null,
   "id": "ef025a25-8519-41c6-b135-f9a9f3155532",
   "metadata": {},
   "outputs": [],
   "source": []
  }
 ],
 "metadata": {
  "kernelspec": {
   "display_name": "Python 3 (ipykernel)",
   "language": "python",
   "name": "python3"
  },
  "language_info": {
   "codemirror_mode": {
    "name": "ipython",
    "version": 3
   },
   "file_extension": ".py",
   "mimetype": "text/x-python",
   "name": "python",
   "nbconvert_exporter": "python",
   "pygments_lexer": "ipython3",
   "version": "3.11.5"
  }
 },
 "nbformat": 4,
 "nbformat_minor": 5
}
